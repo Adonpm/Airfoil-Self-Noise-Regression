{
 "cells": [
  {
   "cell_type": "markdown",
   "id": "545951ed",
   "metadata": {},
   "source": [
    "### Model Selection and Creation of Pickle File for Airfoil Data\n",
    "\n",
    "In this notebook, we will explore various algorithms to determine the best model based on accuracy scores. The process involves:\n",
    "\n",
    "1. **Evaluating Different Algorithms**: We will assess the performance of several algorithms, including:\n",
    "   - Linear Regression\n",
    "   - Decision Tree\n",
    "   - Elastic Net\n",
    "   - Ridge Regression\n",
    "   - Random Forest\n",
    "\n",
    "2. **Selecting the Best-Fit Model**: Based on the accuracy scores, we will identify the model that performs best.\n",
    "\n",
    "3. **Creating a Pickle File**: The best-fit model will be saved in a pickle file for future use, ensuring that we have a reliable model ready for deployment or further analysis.\n",
    "\n",
    "This approach allows us to systematically identify and preserve the most effective model for the airfoil data."
   ]
  },
  {
   "cell_type": "code",
   "execution_count": 1,
   "id": "7a59d414",
   "metadata": {},
   "outputs": [],
   "source": [
    "import pandas as pd\n",
    "\n",
    "df = pd.read_csv(\"../data/airfoil_self_noise.dat\", sep = \"\\t\", header=None)"
   ]
  },
  {
   "cell_type": "code",
   "execution_count": 2,
   "id": "cf243aa1",
   "metadata": {},
   "outputs": [
    {
     "data": {
      "text/html": [
       "<div>\n",
       "<style scoped>\n",
       "    .dataframe tbody tr th:only-of-type {\n",
       "        vertical-align: middle;\n",
       "    }\n",
       "\n",
       "    .dataframe tbody tr th {\n",
       "        vertical-align: top;\n",
       "    }\n",
       "\n",
       "    .dataframe thead th {\n",
       "        text-align: right;\n",
       "    }\n",
       "</style>\n",
       "<table border=\"1\" class=\"dataframe\">\n",
       "  <thead>\n",
       "    <tr style=\"text-align: right;\">\n",
       "      <th></th>\n",
       "      <th>Frequency</th>\n",
       "      <th>Angle of attack</th>\n",
       "      <th>Chord length</th>\n",
       "      <th>Free-stream velocity</th>\n",
       "      <th>Suction side</th>\n",
       "      <th>Pressure level</th>\n",
       "    </tr>\n",
       "  </thead>\n",
       "  <tbody>\n",
       "    <tr>\n",
       "      <th>0</th>\n",
       "      <td>800</td>\n",
       "      <td>0.0</td>\n",
       "      <td>0.3048</td>\n",
       "      <td>71.3</td>\n",
       "      <td>0.002663</td>\n",
       "      <td>126.201</td>\n",
       "    </tr>\n",
       "    <tr>\n",
       "      <th>1</th>\n",
       "      <td>1000</td>\n",
       "      <td>0.0</td>\n",
       "      <td>0.3048</td>\n",
       "      <td>71.3</td>\n",
       "      <td>0.002663</td>\n",
       "      <td>125.201</td>\n",
       "    </tr>\n",
       "    <tr>\n",
       "      <th>2</th>\n",
       "      <td>1250</td>\n",
       "      <td>0.0</td>\n",
       "      <td>0.3048</td>\n",
       "      <td>71.3</td>\n",
       "      <td>0.002663</td>\n",
       "      <td>125.951</td>\n",
       "    </tr>\n",
       "    <tr>\n",
       "      <th>3</th>\n",
       "      <td>1600</td>\n",
       "      <td>0.0</td>\n",
       "      <td>0.3048</td>\n",
       "      <td>71.3</td>\n",
       "      <td>0.002663</td>\n",
       "      <td>127.591</td>\n",
       "    </tr>\n",
       "    <tr>\n",
       "      <th>4</th>\n",
       "      <td>2000</td>\n",
       "      <td>0.0</td>\n",
       "      <td>0.3048</td>\n",
       "      <td>71.3</td>\n",
       "      <td>0.002663</td>\n",
       "      <td>127.461</td>\n",
       "    </tr>\n",
       "    <tr>\n",
       "      <th>...</th>\n",
       "      <td>...</td>\n",
       "      <td>...</td>\n",
       "      <td>...</td>\n",
       "      <td>...</td>\n",
       "      <td>...</td>\n",
       "      <td>...</td>\n",
       "    </tr>\n",
       "    <tr>\n",
       "      <th>1498</th>\n",
       "      <td>2500</td>\n",
       "      <td>15.6</td>\n",
       "      <td>0.1016</td>\n",
       "      <td>39.6</td>\n",
       "      <td>0.052849</td>\n",
       "      <td>110.264</td>\n",
       "    </tr>\n",
       "    <tr>\n",
       "      <th>1499</th>\n",
       "      <td>3150</td>\n",
       "      <td>15.6</td>\n",
       "      <td>0.1016</td>\n",
       "      <td>39.6</td>\n",
       "      <td>0.052849</td>\n",
       "      <td>109.254</td>\n",
       "    </tr>\n",
       "    <tr>\n",
       "      <th>1500</th>\n",
       "      <td>4000</td>\n",
       "      <td>15.6</td>\n",
       "      <td>0.1016</td>\n",
       "      <td>39.6</td>\n",
       "      <td>0.052849</td>\n",
       "      <td>106.604</td>\n",
       "    </tr>\n",
       "    <tr>\n",
       "      <th>1501</th>\n",
       "      <td>5000</td>\n",
       "      <td>15.6</td>\n",
       "      <td>0.1016</td>\n",
       "      <td>39.6</td>\n",
       "      <td>0.052849</td>\n",
       "      <td>106.224</td>\n",
       "    </tr>\n",
       "    <tr>\n",
       "      <th>1502</th>\n",
       "      <td>6300</td>\n",
       "      <td>15.6</td>\n",
       "      <td>0.1016</td>\n",
       "      <td>39.6</td>\n",
       "      <td>0.052849</td>\n",
       "      <td>104.204</td>\n",
       "    </tr>\n",
       "  </tbody>\n",
       "</table>\n",
       "<p>1503 rows × 6 columns</p>\n",
       "</div>"
      ],
      "text/plain": [
       "      Frequency  Angle of attack  Chord length  Free-stream velocity  \\\n",
       "0           800              0.0        0.3048                  71.3   \n",
       "1          1000              0.0        0.3048                  71.3   \n",
       "2          1250              0.0        0.3048                  71.3   \n",
       "3          1600              0.0        0.3048                  71.3   \n",
       "4          2000              0.0        0.3048                  71.3   \n",
       "...         ...              ...           ...                   ...   \n",
       "1498       2500             15.6        0.1016                  39.6   \n",
       "1499       3150             15.6        0.1016                  39.6   \n",
       "1500       4000             15.6        0.1016                  39.6   \n",
       "1501       5000             15.6        0.1016                  39.6   \n",
       "1502       6300             15.6        0.1016                  39.6   \n",
       "\n",
       "      Suction side  Pressure level  \n",
       "0         0.002663         126.201  \n",
       "1         0.002663         125.201  \n",
       "2         0.002663         125.951  \n",
       "3         0.002663         127.591  \n",
       "4         0.002663         127.461  \n",
       "...            ...             ...  \n",
       "1498      0.052849         110.264  \n",
       "1499      0.052849         109.254  \n",
       "1500      0.052849         106.604  \n",
       "1501      0.052849         106.224  \n",
       "1502      0.052849         104.204  \n",
       "\n",
       "[1503 rows x 6 columns]"
      ]
     },
     "execution_count": 2,
     "metadata": {},
     "output_type": "execute_result"
    }
   ],
   "source": [
    "df.columns = [\"Frequency\", \"Angle of attack\", \"Chord length\", \"Free-stream velocity\", \"Suction side\", \"Pressure level\"]\n",
    "df"
   ]
  },
  {
   "cell_type": "code",
   "execution_count": 3,
   "id": "6bb354fc",
   "metadata": {},
   "outputs": [
    {
     "data": {
      "text/plain": [
       "Frequency               0\n",
       "Angle of attack         0\n",
       "Chord length            0\n",
       "Free-stream velocity    0\n",
       "Suction side            0\n",
       "Pressure level          0\n",
       "dtype: int64"
      ]
     },
     "execution_count": 3,
     "metadata": {},
     "output_type": "execute_result"
    }
   ],
   "source": [
    "df.isnull().sum()"
   ]
  },
  {
   "cell_type": "code",
   "execution_count": 4,
   "id": "0b90a7d0",
   "metadata": {},
   "outputs": [],
   "source": [
    "from sklearn.model_selection import train_test_split\n",
    "\n",
    "X = df.iloc[:,:-1]\n",
    "y = df.iloc[:, -1]\n",
    "X_train, X_test, y_train, y_test = train_test_split(X, y, test_size=0.33, random_state=42)"
   ]
  },
  {
   "cell_type": "code",
   "execution_count": 10,
   "id": "8935cd8d",
   "metadata": {},
   "outputs": [
    {
     "data": {
      "text/plain": [
       "0.5124474986138431"
      ]
     },
     "execution_count": 10,
     "metadata": {},
     "output_type": "execute_result"
    }
   ],
   "source": [
    "#LINEAR REGRESSION\n",
    "from sklearn.linear_model import LinearRegression\n",
    "from sklearn.metrics import r2_score\n",
    "\n",
    "regressor_linear = LinearRegression()\n",
    "regressor_linear.fit(X_train, y_train)\n",
    "prediction_linear = regressor_linear.predict(X_test)\n",
    "\n",
    "r2_score(y_test, prediction_linear)"
   ]
  },
  {
   "cell_type": "code",
   "execution_count": 14,
   "id": "15309d8a",
   "metadata": {},
   "outputs": [
    {
     "data": {
      "text/plain": [
       "0.8395146655857919"
      ]
     },
     "execution_count": 14,
     "metadata": {},
     "output_type": "execute_result"
    }
   ],
   "source": [
    "#DECISION TREE\n",
    "from sklearn.tree import DecisionTreeRegressor\n",
    "from sklearn.metrics import r2_score\n",
    "\n",
    "regressor_dt = DecisionTreeRegressor(random_state=0)\n",
    "regressor_dt.fit(X_train, y_train)\n",
    "prediction_dt = regressor_dt.predict(X_test)\n",
    "\n",
    "r2_score(y_test, prediction_dt)"
   ]
  },
  {
   "cell_type": "code",
   "execution_count": 16,
   "id": "7ebc2953",
   "metadata": {},
   "outputs": [
    {
     "data": {
      "text/plain": [
       "0.24858070974843682"
      ]
     },
     "execution_count": 16,
     "metadata": {},
     "output_type": "execute_result"
    }
   ],
   "source": [
    "#ELASTIC NET\n",
    "from sklearn.linear_model import ElasticNet\n",
    "from sklearn.metrics import r2_score\n",
    "\n",
    "regressor_elasticnet = ElasticNet()\n",
    "regressor_elasticnet.fit(X_train, y_train)\n",
    "prediction_elasticnet = regressor_elasticnet.predict(X_test)\n",
    "\n",
    "r2_score(y_test, prediction_elasticnet)"
   ]
  },
  {
   "cell_type": "code",
   "execution_count": 18,
   "id": "1e5ea0d7",
   "metadata": {},
   "outputs": [
    {
     "data": {
      "text/plain": [
       "0.4769144167785677"
      ]
     },
     "execution_count": 18,
     "metadata": {},
     "output_type": "execute_result"
    }
   ],
   "source": [
    "#RIDGE REGRESSION\n",
    "from sklearn.linear_model import Ridge\n",
    "\n",
    "regressor_ridge = Ridge()\n",
    "regressor_ridge.fit(X_train, y_train)\n",
    "prediction_ridge = regressor_ridge.predict(X_test)\n",
    "\n",
    "r2_score(y_test, prediction_ridge)"
   ]
  },
  {
   "cell_type": "code",
   "execution_count": 19,
   "id": "ddc31e58",
   "metadata": {},
   "outputs": [
    {
     "data": {
      "text/plain": [
       "0.9257594875700251"
      ]
     },
     "execution_count": 19,
     "metadata": {},
     "output_type": "execute_result"
    }
   ],
   "source": [
    "#RANDOM FOREST\n",
    "from sklearn.ensemble import RandomForestRegressor\n",
    "\n",
    "regressor_randomforest = RandomForestRegressor()\n",
    "regressor_randomforest.fit(X_train, y_train)\n",
    "prediction_randomforest = regressor_randomforest.predict(X_test)\n",
    "\n",
    "r2_score(y_test, prediction_randomforest)"
   ]
  },
  {
   "cell_type": "markdown",
   "id": "a4b090d1",
   "metadata": {},
   "source": [
    "### Summary of R² Score\n",
    "\n",
    "- **Linear Regression**: 0.5124474986138431\n",
    "- **Decision Tree**: 0.8395146655857919\n",
    "- **Elastic Net**: 0.24858070974843682\n",
    "- **Ridge Regression**: 0.4769144167785677\n",
    "- **Random Forest**: 0.9257594875700251\n",
    "\n",
    "**Best Model** is **Random Forest** with **92.57%** accuracy."
   ]
  },
  {
   "cell_type": "code",
   "execution_count": 41,
   "id": "32c1b880",
   "metadata": {},
   "outputs": [],
   "source": [
    "import pickle\n",
    "pickle.dump(regressor_randomforest, open('../models/model.pkl', 'wb')) #Using random forest as that is the best model"
   ]
  },
  {
   "cell_type": "code",
   "execution_count": 42,
   "id": "f988a0e1",
   "metadata": {},
   "outputs": [
    {
     "data": {
      "text/plain": [
       "array([123.95611, 118.59041, 119.54673, 135.6969 , 134.35168, 123.73311,\n",
       "       123.96261, 133.86611, 133.78117, 128.06461, 126.87136, 112.97958,\n",
       "       133.41544, 132.45736, 125.33178, 107.99919, 130.25884, 129.68331,\n",
       "       128.38537, 124.72661, 125.23889, 127.46829, 111.01687, 125.73107,\n",
       "       124.32265, 126.2571 , 130.17039, 131.50868, 109.35832, 130.91059,\n",
       "       132.21383, 122.02997, 128.53989, 118.8662 , 119.36342, 134.72917,\n",
       "       133.97547, 130.04287, 120.75151, 111.74088, 125.58791, 134.64922,\n",
       "       127.01834, 121.64516, 127.03021, 134.41103, 129.7535 , 118.51942,\n",
       "       121.61493, 133.73072, 132.18519, 114.47942, 129.50883, 126.92735,\n",
       "       126.72378, 120.92556, 123.70853, 129.87228, 122.38325, 118.98662,\n",
       "       126.01032, 134.42685, 129.78697, 133.10778, 117.35703, 125.46676,\n",
       "       123.34847, 119.93123, 126.0382 , 129.42572, 129.06334, 130.06925,\n",
       "       128.74862, 117.68322, 129.61864, 128.22064, 130.22275, 132.50027,\n",
       "       134.40527, 135.41716, 124.75338, 120.07745, 123.11937, 125.5259 ,\n",
       "       121.48806, 117.8296 , 111.48565, 130.43391, 114.68988, 119.32268,\n",
       "       118.32694, 115.62693, 124.61335, 133.22042, 116.68968, 116.88144,\n",
       "       115.95444, 116.75573, 132.12534, 125.19366, 128.62717, 109.22136,\n",
       "       130.35783, 120.11701, 124.48985, 128.14538, 117.11588, 121.48434,\n",
       "       129.8688 , 120.61492, 121.64224, 133.06035, 128.39603, 129.7415 ,\n",
       "       121.17342, 134.35928, 116.31539, 112.80158, 129.37867, 114.16891,\n",
       "       129.13367, 130.80889, 128.62389, 129.46784, 108.73654, 124.82822,\n",
       "       127.8646 , 116.88913, 130.11599, 108.24749, 130.3088 , 125.32259,\n",
       "       108.36617, 122.42286, 134.403  , 128.37744, 127.24409, 117.97065,\n",
       "       129.26438, 126.36137, 123.72237, 130.90629, 128.25879, 125.28038,\n",
       "       126.67513, 125.8817 , 123.70341, 129.00558, 129.1607 , 129.21197,\n",
       "       126.17281, 135.63943, 114.64877, 133.95591, 121.94467, 129.22404,\n",
       "       131.21982, 127.31545, 136.48384, 123.26758, 125.96589, 118.97615,\n",
       "       123.50245, 121.29458, 117.047  , 130.3589 , 128.25992, 120.15858,\n",
       "       122.08212, 134.46426, 121.01389, 128.12193, 128.42508, 130.67685,\n",
       "       117.50319, 116.66144, 125.08721, 124.00471, 126.71487, 119.99839,\n",
       "       129.94258, 117.23336, 111.68794, 131.39837, 118.71609, 123.7275 ,\n",
       "       109.7577 , 132.04926, 111.86054, 130.72575, 121.63188, 116.19468,\n",
       "       117.59865, 124.47883, 128.98101, 132.28403, 120.69104, 129.64301,\n",
       "       128.021  , 116.78798, 123.96941, 124.78001, 117.97418, 129.10595,\n",
       "       125.45635, 127.20732, 125.81126, 131.95093, 126.59527, 127.3496 ,\n",
       "       120.01509, 132.93664, 115.47877, 133.9776 , 125.04359, 122.68645,\n",
       "       126.2564 , 123.15696, 130.28138, 111.98247, 133.04759, 115.2866 ,\n",
       "       128.26894, 131.31474, 122.9613 , 127.70055, 128.64177, 130.57729,\n",
       "       122.27073, 125.71477, 128.70937, 132.31342, 127.4312 , 117.7822 ,\n",
       "       122.02879, 127.22063, 134.83201, 132.2669 , 126.24502, 119.6068 ,\n",
       "       111.08852, 123.31183, 114.11055, 117.85348, 128.45586, 128.48103,\n",
       "       124.31558, 131.59363, 118.2307 , 132.04024, 116.73479, 106.26352,\n",
       "       121.57803, 121.76746, 134.33337, 124.919  , 130.63313, 115.39977,\n",
       "       120.51571, 118.34943, 119.99533, 127.31554, 126.71431, 133.07202,\n",
       "       135.30751, 121.55284, 132.54936, 127.39283, 128.05111, 123.22194,\n",
       "       134.75724, 121.64597, 122.8785 , 132.45242, 129.84862, 123.72307,\n",
       "       131.59253, 130.18626, 124.71757, 123.6633 , 125.63377, 123.62864,\n",
       "       126.44101, 122.63811, 128.49828, 129.74922, 127.19615, 119.46014,\n",
       "       130.07463, 123.54005, 114.86504, 126.07848, 124.7185 , 111.85468,\n",
       "       122.82594, 124.93509, 136.89681, 114.89705, 126.53543, 126.94419,\n",
       "       133.50358, 132.33533, 129.83215, 133.59212, 118.13669, 122.77411,\n",
       "       117.10235, 121.75744, 121.55531, 125.44401, 118.96926, 119.57651,\n",
       "       125.537  , 129.69937, 115.47738, 130.43946, 133.17584, 123.92505,\n",
       "       124.9345 , 121.56607, 118.52089, 128.4977 , 130.75049, 116.06562,\n",
       "       130.86588, 117.40748, 128.82763, 125.7779 , 111.29066, 125.57144,\n",
       "       126.16117, 109.53286, 130.88657, 127.31318, 122.20558, 132.28488,\n",
       "       126.51352, 128.60884, 127.55112, 126.66676, 131.41748, 126.07931,\n",
       "       113.89364, 128.91439, 120.04807, 125.77325, 135.08241, 121.89445,\n",
       "       124.57428, 130.40016, 125.18346, 122.09633, 128.08102, 126.54951,\n",
       "       134.26782, 131.93849, 132.57274, 114.90411, 123.23736, 117.31879,\n",
       "       117.63351, 128.32158, 113.89655, 123.94061, 120.57281, 125.82981,\n",
       "       125.53266, 126.37953, 128.66758, 123.12019, 123.23601, 129.67958,\n",
       "       113.67621, 127.57485, 122.73805, 125.71437, 132.72562, 132.24535,\n",
       "       132.22549, 118.63961, 130.56382, 130.38711, 131.29247, 129.28176,\n",
       "       124.01248, 131.79922, 124.13961, 132.44914, 123.50318, 134.09223,\n",
       "       123.82336, 126.47446, 131.07797, 127.31823, 134.96803, 131.86017,\n",
       "       130.45539, 128.15691, 123.70322, 125.37562, 119.38313, 132.16134,\n",
       "       128.30118, 128.08513, 113.8729 , 115.87389, 120.79411, 123.51039,\n",
       "       127.00324, 119.57966, 128.66462, 126.42422, 121.25569, 112.18439,\n",
       "       122.83295, 117.04216, 129.3161 , 117.1337 , 128.45545, 112.93463,\n",
       "       132.92238, 134.8483 , 124.7555 , 126.0158 , 118.80914, 123.68017,\n",
       "       125.99096, 133.22543, 110.7945 , 129.90522, 123.27798, 127.17169,\n",
       "       128.01903, 111.45233, 118.96931, 125.46352, 120.77124, 127.59348,\n",
       "       121.80348, 120.32461, 116.38559, 132.3238 , 128.90544, 113.14849,\n",
       "       127.61148, 127.96778, 118.88269, 114.76928, 123.06428, 114.86424,\n",
       "       121.65839, 124.88861, 127.35549, 128.95865, 128.06762, 113.2547 ,\n",
       "       127.45839, 111.39344, 116.95073, 123.72465, 109.97063, 116.92076,\n",
       "       128.00496, 130.27529, 119.14157, 114.87742, 113.69165, 128.42917,\n",
       "       113.77322, 133.5851 , 127.29324, 129.35549, 114.31041, 127.30328,\n",
       "       126.1018 , 125.60374, 124.91935, 134.12199, 118.73846, 125.61188,\n",
       "       121.58358, 125.48797, 127.96932, 123.03386, 113.83019, 125.1472 ,\n",
       "       111.44774, 132.66465, 122.9926 , 128.77823, 124.68807, 131.53344,\n",
       "       119.81721, 127.31954, 129.35652, 133.14686])"
      ]
     },
     "execution_count": 42,
     "metadata": {},
     "output_type": "execute_result"
    }
   ],
   "source": [
    "import pickle\n",
    "pickled_model = pickle.load(open('../models/model.pkl', 'rb'))\n",
    "\n",
    "#batch input (multiple inputs)\n",
    "pickled_model.predict(X_test)"
   ]
  },
  {
   "cell_type": "code",
   "execution_count": 43,
   "id": "137fab42",
   "metadata": {},
   "outputs": [],
   "source": [
    "#Single input \n",
    "\n",
    "dict_test = {\n",
    "    \"Frequency\": 9,\n",
    "    \"Angle of attack\": 8,\n",
    "    \"Chord length\": 10,\n",
    "    \"Free-stream velocity\": 1,\n",
    "    \"Suction side\": 7\n",
    "}"
   ]
  },
  {
   "cell_type": "code",
   "execution_count": 44,
   "id": "aaba7b4c",
   "metadata": {},
   "outputs": [
    {
     "data": {
      "text/plain": [
       "dict_keys(['Frequency', 'Angle of attack', 'Chord length', 'Free-stream velocity', 'Suction side'])"
      ]
     },
     "execution_count": 44,
     "metadata": {},
     "output_type": "execute_result"
    }
   ],
   "source": [
    "dict_test.keys()"
   ]
  },
  {
   "cell_type": "code",
   "execution_count": 45,
   "id": "76ddb61a",
   "metadata": {},
   "outputs": [
    {
     "data": {
      "text/plain": [
       "dict_values([9, 8, 10, 1, 7])"
      ]
     },
     "execution_count": 45,
     "metadata": {},
     "output_type": "execute_result"
    }
   ],
   "source": [
    "dict_test.values()"
   ]
  },
  {
   "cell_type": "code",
   "execution_count": 46,
   "id": "9f9c93ed",
   "metadata": {},
   "outputs": [
    {
     "data": {
      "text/plain": [
       "dict_values"
      ]
     },
     "execution_count": 46,
     "metadata": {},
     "output_type": "execute_result"
    }
   ],
   "source": [
    "type(dict_test.values())"
   ]
  },
  {
   "cell_type": "code",
   "execution_count": 47,
   "id": "3a0d1581",
   "metadata": {},
   "outputs": [
    {
     "data": {
      "text/plain": [
       "[9, 8, 10, 1, 7]"
      ]
     },
     "execution_count": 47,
     "metadata": {},
     "output_type": "execute_result"
    }
   ],
   "source": [
    "list(dict_test.values())"
   ]
  },
  {
   "cell_type": "code",
   "execution_count": 48,
   "id": "5f7ae674",
   "metadata": {},
   "outputs": [
    {
     "data": {
      "text/plain": [
       "[[9, 8, 10, 1, 7]]"
      ]
     },
     "execution_count": 48,
     "metadata": {},
     "output_type": "execute_result"
    }
   ],
   "source": [
    "[list(dict_test.values())]"
   ]
  },
  {
   "cell_type": "code",
   "execution_count": 49,
   "id": "424a233c",
   "metadata": {},
   "outputs": [
    {
     "name": "stderr",
     "output_type": "stream",
     "text": [
      "c:\\Users\\apm1\\AppData\\Local\\Programs\\Python\\Python313\\Lib\\site-packages\\sklearn\\utils\\validation.py:2739: UserWarning: X does not have valid feature names, but RandomForestRegressor was fitted with feature names\n",
      "  warnings.warn(\n"
     ]
    },
    {
     "data": {
      "text/plain": [
       "array([117.35598])"
      ]
     },
     "execution_count": 49,
     "metadata": {},
     "output_type": "execute_result"
    }
   ],
   "source": [
    "pickled_model.predict([list(dict_test.values())])"
   ]
  },
  {
   "cell_type": "code",
   "execution_count": 50,
   "id": "7e1606b9",
   "metadata": {},
   "outputs": [
    {
     "name": "stderr",
     "output_type": "stream",
     "text": [
      "c:\\Users\\apm1\\AppData\\Local\\Programs\\Python\\Python313\\Lib\\site-packages\\sklearn\\utils\\validation.py:2739: UserWarning: X does not have valid feature names, but RandomForestRegressor was fitted with feature names\n",
      "  warnings.warn(\n"
     ]
    },
    {
     "data": {
      "text/plain": [
       "117.35597999999999"
      ]
     },
     "execution_count": 50,
     "metadata": {},
     "output_type": "execute_result"
    }
   ],
   "source": [
    "pickled_model.predict([list(dict_test.values())])[0].item()"
   ]
  },
  {
   "cell_type": "code",
   "execution_count": null,
   "id": "018a55d4",
   "metadata": {},
   "outputs": [],
   "source": []
  }
 ],
 "metadata": {
  "kernelspec": {
   "display_name": "Python 3",
   "language": "python",
   "name": "python3"
  },
  "language_info": {
   "codemirror_mode": {
    "name": "ipython",
    "version": 3
   },
   "file_extension": ".py",
   "mimetype": "text/x-python",
   "name": "python",
   "nbconvert_exporter": "python",
   "pygments_lexer": "ipython3",
   "version": "3.13.2"
  }
 },
 "nbformat": 4,
 "nbformat_minor": 5
}
